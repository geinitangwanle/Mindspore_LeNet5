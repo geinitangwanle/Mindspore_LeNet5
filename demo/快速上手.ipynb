{
 "cells": [
  {
   "cell_type": "code",
   "execution_count": 1,
   "id": "3b88d3d0",
   "metadata": {},
   "outputs": [],
   "source": [
    "import mindspore\n",
    "from mindspore import nn\n",
    "from mindspore.dataset import vision, transforms\n",
    "from mindspore.dataset import MnistDataset"
   ]
  },
  {
   "cell_type": "code",
   "execution_count": 2,
   "id": "92560b60",
   "metadata": {},
   "outputs": [
    {
     "name": "stdout",
     "output_type": "stream",
     "text": [
      "Downloading data from https://mindspore-website.obs.cn-north-4.myhuaweicloud.com/notebook/datasets/MNIST_Data.zip (10.3 MB)\n",
      "\n",
      "file_sizes: 100%|███████████████████████████| 10.8M/10.8M [00:16<00:00, 654kB/s]\n",
      "Extracting zip file...\n",
      "Successfully downloaded / unzipped to ./\n"
     ]
    }
   ],
   "source": [
    "# Download data from open datasets\n",
    "from download import download\n",
    "\n",
    "url = \"https://mindspore-website.obs.cn-north-4.myhuaweicloud.com/\" \\\n",
    "      \"notebook/datasets/MNIST_Data.zip\"\n",
    "path = download(url, \"./\", kind=\"zip\", replace=True)\n"
   ]
  },
  {
   "cell_type": "code",
   "execution_count": 3,
   "id": "e535b5f7",
   "metadata": {},
   "outputs": [],
   "source": [
    "train_dataset = MnistDataset('MNIST_Data/train')\n",
    "test_dataset = MnistDataset('MNIST_Data/test')"
   ]
  },
  {
   "cell_type": "code",
   "execution_count": null,
   "id": "081520c0",
   "metadata": {},
   "outputs": [
    {
     "name": "stdout",
     "output_type": "stream",
     "text": [
      "['image', 'label']\n"
     ]
    }
   ],
   "source": [
    "print(train_dataset.get_col_names()) # 获取数据集的列名\n"
   ]
  },
  {
   "cell_type": "code",
   "execution_count": 5,
   "id": "1f2fbf5d",
   "metadata": {},
   "outputs": [],
   "source": [
    "def datapipe(dataset, batch_size):\n",
    "    image_transforms = [\n",
    "        vision.Rescale(1.0 / 255.0, 0), #将输入的图像缩放为1/255\n",
    "        vision.Normalize(mean=(0.1307,), std=(0.3081,)), #对图像进行标准化处理\n",
    "        vision.HWC2CHW() #将图像从HWC格式转换为CHW格式\n",
    "    ]\n",
    "    label_transform = transforms.TypeCast(mindspore.int32) #将标签转换为int32类型\n",
    "\n",
    "    dataset = dataset.map(image_transforms, 'image') \n",
    "    dataset = dataset.map(label_transform, 'label')\n",
    "    dataset = dataset.batch(batch_size) #设置批处理大小\n",
    "    return dataset"
   ]
  },
  {
   "cell_type": "code",
   "execution_count": 6,
   "id": "d609ca2f",
   "metadata": {},
   "outputs": [],
   "source": [
    "# Map vision transforms and batch dataset\n",
    "train_dataset = datapipe(train_dataset, 64)\n",
    "test_dataset = datapipe(test_dataset, 64)"
   ]
  },
  {
   "cell_type": "code",
   "execution_count": 7,
   "id": "35077013",
   "metadata": {},
   "outputs": [
    {
     "name": "stdout",
     "output_type": "stream",
     "text": [
      "Shape of image [N, C, H, W]: (64, 1, 28, 28) Float32\n",
      "Shape of label: (64,) Int32\n"
     ]
    }
   ],
   "source": [
    "for image, label in test_dataset.create_tuple_iterator():\n",
    "    print(f\"Shape of image [N, C, H, W]: {image.shape} {image.dtype}\")\n",
    "    print(f\"Shape of label: {label.shape} {label.dtype}\")\n",
    "    break\n"
   ]
  },
  {
   "cell_type": "markdown",
   "id": "5fe15b67",
   "metadata": {},
   "source": [
    "网络构建"
   ]
  },
  {
   "cell_type": "code",
   "execution_count": 8,
   "id": "0cbe1d22",
   "metadata": {},
   "outputs": [
    {
     "name": "stdout",
     "output_type": "stream",
     "text": [
      "Network<\n",
      "  (flatten): Flatten<>\n",
      "  (dense_relu_sequential): SequentialCell<\n",
      "    (0): Dense<input_channels=784, output_channels=512, has_bias=True>\n",
      "    (1): ReLU<>\n",
      "    (2): Dense<input_channels=512, output_channels=512, has_bias=True>\n",
      "    (3): ReLU<>\n",
      "    (4): Dense<input_channels=512, output_channels=10, has_bias=True>\n",
      "    >\n",
      "  >\n"
     ]
    }
   ],
   "source": [
    "# Define model\n",
    "class Network(nn.Cell):\n",
    "    def __init__(self):\n",
    "        super().__init__()\n",
    "        self.flatten = nn.Flatten()\n",
    "        self.dense_relu_sequential = nn.SequentialCell(\n",
    "            nn.Dense(28*28, 512),\n",
    "            nn.ReLU(),\n",
    "            nn.Dense(512, 512),\n",
    "            nn.ReLU(),\n",
    "            nn.Dense(512, 10)\n",
    "        )\n",
    "\n",
    "    def construct(self, x):\n",
    "        x = self.flatten(x)\n",
    "        logits = self.dense_relu_sequential(x)\n",
    "        return logits\n",
    "\n",
    "model = Network()\n",
    "print(model)\n"
   ]
  },
  {
   "cell_type": "code",
   "execution_count": 9,
   "id": "160bd84c",
   "metadata": {},
   "outputs": [],
   "source": [
    "# Instantiate loss function and optimizer\n",
    "loss_fn = nn.CrossEntropyLoss()\n",
    "optimizer = nn.SGD(model.trainable_params(), 1e-2)"
   ]
  },
  {
   "cell_type": "code",
   "execution_count": null,
   "id": "8d6bcc6e",
   "metadata": {},
   "outputs": [],
   "source": [
    "# 1. Define forward function\n",
    "def forward_fn(data, label):\n",
    "    logits = model(data)\n",
    "    loss = loss_fn(logits, label) # CrossEntropyLoss expects logits and labels\n",
    "    return loss, logits"
   ]
  },
  {
   "cell_type": "code",
   "execution_count": 11,
   "id": "bb3c16c2",
   "metadata": {},
   "outputs": [],
   "source": [
    "# 2. Get gradient function\n",
    "grad_fn = mindspore.value_and_grad(forward_fn, None, optimizer.parameters, has_aux=True)"
   ]
  },
  {
   "cell_type": "code",
   "execution_count": null,
   "id": "868b940e",
   "metadata": {},
   "outputs": [],
   "source": [
    "# 3. Define function of one-step training\n",
    "def train_step(data, label):\n",
    "    (loss, _), grads = grad_fn(data, label) # Get loss and gradients\n",
    "    optimizer(grads) # Update parameters\n",
    "    return loss\n"
   ]
  },
  {
   "cell_type": "code",
   "execution_count": 13,
   "id": "27109cc7",
   "metadata": {},
   "outputs": [],
   "source": [
    "def train(model, dataset):\n",
    "    size = dataset.get_dataset_size() # Get the size of the dataset\n",
    "    model.set_train() # Set the model to training mode\n",
    "    for batch, (data, label) in enumerate(dataset.create_tuple_iterator()):\n",
    "        loss = train_step(data, label)\n",
    "\n",
    "        if batch % 100 == 0:\n",
    "            loss, current = loss.asnumpy(), batch\n",
    "            print(f\"loss: {loss:>7f}  [{current:>3d}/{size:>3d}]\")"
   ]
  },
  {
   "cell_type": "code",
   "execution_count": 14,
   "id": "41135b61",
   "metadata": {},
   "outputs": [],
   "source": [
    "def test(model, dataset, loss_fn):\n",
    "    num_batches = dataset.get_dataset_size()\n",
    "    model.set_train(False)\n",
    "    total, test_loss, correct = 0, 0, 0\n",
    "    for data, label in dataset.create_tuple_iterator():\n",
    "        pred = model(data)\n",
    "        total += len(data)\n",
    "        test_loss += loss_fn(pred, label).asnumpy()\n",
    "        correct += (pred.argmax(1) == label).asnumpy().sum()\n",
    "    test_loss /= num_batches\n",
    "    correct /= total\n",
    "    print(f\"Test: \\n Accuracy: {(100*correct):>0.1f}%, Avg loss: {test_loss:>8f} \\n\")"
   ]
  },
  {
   "cell_type": "code",
   "execution_count": 15,
   "id": "5ca2a6d2",
   "metadata": {},
   "outputs": [
    {
     "name": "stdout",
     "output_type": "stream",
     "text": [
      "Epoch 1\n",
      "-------------------------------\n",
      "loss: 2.292323  [  0/938]\n",
      "loss: 1.797408  [100/938]\n",
      "loss: 0.820770  [200/938]\n",
      "loss: 0.595216  [300/938]\n",
      "loss: 0.261998  [400/938]\n",
      "loss: 0.493455  [500/938]\n",
      "loss: 0.444322  [600/938]\n",
      "loss: 0.544286  [700/938]\n",
      "loss: 0.418854  [800/938]\n",
      "loss: 0.413095  [900/938]\n",
      "Test: \n",
      " Accuracy: 90.9%, Avg loss: 0.319744 \n",
      "\n",
      "Epoch 2\n",
      "-------------------------------\n",
      "loss: 0.201634  [  0/938]\n",
      "loss: 0.231194  [100/938]\n",
      "loss: 0.264057  [200/938]\n",
      "loss: 0.182378  [300/938]\n",
      "loss: 0.238462  [400/938]\n",
      "loss: 0.328668  [500/938]\n",
      "loss: 0.305571  [600/938]\n",
      "loss: 0.270367  [700/938]\n",
      "loss: 0.171518  [800/938]\n",
      "loss: 0.199179  [900/938]\n",
      "Test: \n",
      " Accuracy: 92.9%, Avg loss: 0.249662 \n",
      "\n",
      "Epoch 3\n",
      "-------------------------------\n",
      "loss: 0.366589  [  0/938]\n",
      "loss: 0.257430  [100/938]\n",
      "loss: 0.207121  [200/938]\n",
      "loss: 0.291514  [300/938]\n",
      "loss: 0.169423  [400/938]\n",
      "loss: 0.266388  [500/938]\n",
      "loss: 0.134548  [600/938]\n",
      "loss: 0.344653  [700/938]\n",
      "loss: 0.224384  [800/938]\n",
      "loss: 0.231778  [900/938]\n",
      "Test: \n",
      " Accuracy: 93.8%, Avg loss: 0.209389 \n",
      "\n",
      "Done!\n"
     ]
    }
   ],
   "source": [
    "epochs = 3\n",
    "for t in range(epochs):\n",
    "    print(f\"Epoch {t+1}\\n-------------------------------\")\n",
    "    train(model, train_dataset)\n",
    "    test(model, test_dataset, loss_fn)\n",
    "print(\"Done!\")\n"
   ]
  },
  {
   "cell_type": "code",
   "execution_count": 16,
   "id": "3d700d8c",
   "metadata": {},
   "outputs": [
    {
     "name": "stdout",
     "output_type": "stream",
     "text": [
      "Saved Model to model.ckpt\n"
     ]
    }
   ],
   "source": [
    "# Save checkpoint\n",
    "mindspore.save_checkpoint(model, \"model.ckpt\")\n",
    "print(\"Saved Model to model.ckpt\")\n"
   ]
  },
  {
   "cell_type": "code",
   "execution_count": 17,
   "id": "ead9e5e1",
   "metadata": {},
   "outputs": [
    {
     "name": "stdout",
     "output_type": "stream",
     "text": [
      "[]\n"
     ]
    }
   ],
   "source": [
    "# Instantiate a random initialized model\n",
    "model = Network()\n",
    "# Load checkpoint and load parameter to model\n",
    "param_dict = mindspore.load_checkpoint(\"model.ckpt\")\n",
    "param_not_load, _ = mindspore.load_param_into_net(model, param_dict)\n",
    "print(param_not_load)\n"
   ]
  },
  {
   "cell_type": "code",
   "execution_count": 18,
   "id": "13fb840c",
   "metadata": {},
   "outputs": [
    {
     "name": "stdout",
     "output_type": "stream",
     "text": [
      "Predicted: \"[9 5 1 0 8 7 6 4 7 2]\", Actual: \"[7 5 1 2 8 7 6 4 7 2]\"\n"
     ]
    }
   ],
   "source": [
    "model.set_train(False)\n",
    "for data, label in test_dataset:\n",
    "    pred = model(data)\n",
    "    predicted = pred.argmax(1)\n",
    "    print(f'Predicted: \"{predicted[:10]}\", Actual: \"{label[:10]}\"')\n",
    "    break\n"
   ]
  },
  {
   "cell_type": "code",
   "execution_count": null,
   "id": "0a009d9f",
   "metadata": {},
   "outputs": [],
   "source": []
  }
 ],
 "metadata": {
  "kernelspec": {
   "display_name": "mindspore",
   "language": "python",
   "name": "python3"
  },
  "language_info": {
   "codemirror_mode": {
    "name": "ipython",
    "version": 3
   },
   "file_extension": ".py",
   "mimetype": "text/x-python",
   "name": "python",
   "nbconvert_exporter": "python",
   "pygments_lexer": "ipython3",
   "version": "3.9.21"
  }
 },
 "nbformat": 4,
 "nbformat_minor": 5
}
